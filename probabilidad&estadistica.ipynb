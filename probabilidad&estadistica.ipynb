{
  "nbformat": 4,
  "nbformat_minor": 0,
  "metadata": {
    "colab": {
      "name": "probabilidad&estadistica.ipynb",
      "provenance": []
    },
    "kernelspec": {
      "name": "python3",
      "display_name": "Python 3"
    },
    "language_info": {
      "name": "python"
    }
  },
  "cells": [
    {
      "cell_type": "code",
      "execution_count": null,
      "metadata": {
        "colab": {
          "base_uri": "https://localhost:8080/",
          "height": 265
        },
        "id": "jlZfW9n70Mf0",
        "outputId": "08ce6c54-82ea-4127-a23e-239b51c8804f"
      },
      "outputs": [
        {
          "output_type": "display_data",
          "data": {
            "text/plain": [
              "<Figure size 432x288 with 1 Axes>"
            ],
            "image/png": "[encoded data removed]"
          },
          "metadata": {
            "needs_background": "light"
          }
        }
      ],
      "source": [
        "#Muestra de un histograma para probabilidad y estadística\n",
        "#Sebastián Rodríguez López\n",
        "\n",
        "import numpy as np\n",
        "import matplotlib.pyplot as plt\n",
        "#gráfica\n",
        "\n",
        "#np.histogram ([10, 15, 16, 24, 25, 45, 36, 45] , bins=[0, 10, 20, 30, 40, 50])\n",
        "#(np.array([0, 3, 2, 1, 2]), np.array([0, 10, 20, 30, 40, 50]))\n",
        "\n",
        "plt.hist([10, 15, 16, 24, 25, 45, 36, 45], bins=[0, 10, 20, 30, 40, 50])\n",
        "#(np.array([0., 3., 2., 1., 2.]), np.array([0, 10, 20, 30, 40, 50]))\n",
        "\n",
        "plt.show()\n"
      ]
    },
    {
      "cell_type": "code",
      "source": [
        "import numpy as np\n",
        "import matplotlib.pyplot as plt\n",
        "#arreglo de datos para graficar\n",
        "\n",
        "edades=[41, 25, 43, 38, 53, 43, 56, 53, 31, 69, 53, 47, 40, 25, 60, 42, 24, 70, 23, 64, 54, 64, 63, 33, 36, 53, 26, 89, 65, 45, 64, 30, 75, 53, 38, 26, 25, 56, 26, 54, 31, 44, 36, 74, 74, 37, 48, 42, 77, 75]\n",
        "intervalos= range(min(edades), max(edades)+2) \n",
        "plt.hist(x=edades, bins=intervalos, rwidth=0.85)\n",
        "plt.title('Histograma de edades')\n",
        "plt.xlabel('Edades de la muestra')\n",
        "plt.ylabel('Frecuencia')\n",
        "#gráfica\n",
        "plt.show()"
      ],
      "metadata": {
        "colab": {
          "base_uri": "https://localhost:8080/",
          "height": 295
        },
        "id": "1MUE3BqcmvRF",
        "outputId": "813a32c5-ddab-4213-c776-2cf710de185b"
      },
      "execution_count": null,
      "outputs": [
        {
          "output_type": "display_data",
          "data": {
            "text/plain": [
              "<Figure size 432x288 with 1 Axes>"
            ],
            "image/png": "[encoded data removed]"
          },
          "metadata": {
            "needs_background": "light"
          }
        }
      ]
    }
  ]
}